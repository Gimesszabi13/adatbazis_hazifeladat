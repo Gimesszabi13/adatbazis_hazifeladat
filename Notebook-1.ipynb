{
    "metadata": {
        "kernelspec": {
            "name": "SQL",
            "display_name": "SQL",
            "language": "sql"
        },
        "language_info": {
            "name": "sql",
            "version": ""
        }
    },
    "nbformat_minor": 2,
    "nbformat": 4,
    "cells": [
        {
            "cell_type": "code",
            "source": [
                "SELECT max(nettoar) - min(nettoar) as 'Terjedelem'\n",
                "    , round(avg(nettoar),0) as 'Átlagár'\n",
                "    , avg(nettoar) - (max(nettoar) - min(nettoar)) 'Átlag - terjedelem'\n",
                "FROM dvd"
            ],
            "metadata": {
                "azdata_cell_guid": "7cae9324-ee08-439f-bdf9-dc4c4781c66e",
                "language": "sql"
            },
            "outputs": [],
            "execution_count": null
        },
        {
            "cell_type": "code",
            "source": [
                "SELECT TOP 10\n",
                "    nettoar AS 'Ár', \n",
                "    COUNT(*)  AS 'DVD-k száma'\n",
                "from dvd\n",
                "WHERE nettoar IS NOT null\n",
                "GROUP BY nettoar\n",
                "ORDER BY COUNT(*) desc"
            ],
            "metadata": {
                "azdata_cell_guid": "054eff6c-4798-4655-b626-4122947cbe02",
                "language": "sql"
            },
            "outputs": [],
            "execution_count": null
        },
        {
            "cell_type": "code",
            "source": [
                "SELECT avg(len(cim)) AS 'Átlagos címhossz'\n",
                "    , stdev(len(cim)) AS 'Szórás'\n",
                "FROM dvd"
            ],
            "metadata": {
                "azdata_cell_guid": "c35b4376-cbc4-4f15-bad0-638005e1e727",
                "language": "sql"
            },
            "outputs": [],
            "execution_count": null
        },
        {
            "cell_type": "code",
            "source": [
                "SELECT * \n",
                "FROM dvd\n",
                "WHERE id IN (\n",
                "    SELECT TOP (10) id\n",
                "    FROM dvd\n",
                "    ORDER BY NEWID())"
            ],
            "metadata": {
                "azdata_cell_guid": "9495c0cc-69e7-4843-8a28-b3de04e63423",
                "language": "sql"
            },
            "outputs": [],
            "execution_count": null
        },
        {
            "cell_type": "code",
            "source": [
                "SELECT cim\n",
                "    , nettoar * [raktár készlet] as 'DVD összértéke'\n",
                "FROM dvd\n",
                "WHERE [raktár készlet] IS NOT NULL\n",
                "    AND nettoar IS NOT NULL\n",
                "    AND cim IS NOT NULL"
            ],
            "metadata": {
                "azdata_cell_guid": "a2c76c6c-4d9e-42ba-bdab-7bf7715f562f",
                "language": "sql"
            },
            "outputs": [],
            "execution_count": null
        },
        {
            "cell_type": "code",
            "source": [
                "SELECT\n",
                "     sum(nettoar * [raktár készlet]) as 'DVD-k összértéke'\n",
                "FROM dvd\n",
                "WHERE [raktár készlet] IS NOT NULL\n",
                "    AND nettoar IS NOT NULL\n",
                "    AND cim IS NOT NULL"
            ],
            "metadata": {
                "azdata_cell_guid": "865bfc1f-36aa-4854-979b-56e7b1e0643d",
                "language": "sql"
            },
            "outputs": [],
            "execution_count": null
        },
        {
            "cell_type": "code",
            "source": [
                "SELECT COUNT(DISTINCT nettoar) as 'Egyedi értékek'\n",
                "    , count(nettoar) - COUNT(DISTINCT nettoar) as 'Nem egyedi értékek'\n",
                "FROM dvd\n",
                "WHERE nettoar IS NOT NULL"
            ],
            "metadata": {
                "azdata_cell_guid": "b69b53ed-f69e-409f-9b76-248ee10323ec",
                "language": "sql"
            },
            "outputs": [],
            "execution_count": null
        }
    ]
}